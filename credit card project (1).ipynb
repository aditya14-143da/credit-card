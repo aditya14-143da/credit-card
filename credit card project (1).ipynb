{
  "nbformat": 4,
  "nbformat_minor": 0,
  "metadata": {
    "colab": {
      "provenance": []
    },
    "kernelspec": {
      "name": "python3",
      "display_name": "Python 3"
    },
    "language_info": {
      "name": "python"
    }
  },
  "cells": [
    {
      "cell_type": "code",
      "source": [
        "!pip install gradio yfinance --quiet"
      ],
      "metadata": {
        "colab": {
          "base_uri": "https://localhost:8080/"
        },
        "id": "niXgc0QQa33O",
        "outputId": "8a821443-ad3c-41c7-abae-e9d88667bac8"
      },
      "execution_count": 3,
      "outputs": [
        {
          "output_type": "stream",
          "name": "stdout",
          "text": [
            "\u001b[2K   \u001b[90m━━━━━━━━━━━━━━━━━━━━━━━━━━━━━━━━━━━━━━━━\u001b[0m \u001b[32m54.1/54.1 MB\u001b[0m \u001b[31m19.5 MB/s\u001b[0m eta \u001b[36m0:00:00\u001b[0m\n",
            "\u001b[2K   \u001b[90m━━━━━━━━━━━━━━━━━━━━━━━━━━━━━━━━━━━━━━━━\u001b[0m \u001b[32m322.9/322.9 kB\u001b[0m \u001b[31m19.1 MB/s\u001b[0m eta \u001b[36m0:00:00\u001b[0m\n",
            "\u001b[2K   \u001b[90m━━━━━━━━━━━━━━━━━━━━━━━━━━━━━━━━━━━━━━━━\u001b[0m \u001b[32m95.2/95.2 kB\u001b[0m \u001b[31m7.2 MB/s\u001b[0m eta \u001b[36m0:00:00\u001b[0m\n",
            "\u001b[2K   \u001b[90m━━━━━━━━━━━━━━━━━━━━━━━━━━━━━━━━━━━━━━━━\u001b[0m \u001b[32m11.5/11.5 MB\u001b[0m \u001b[31m102.0 MB/s\u001b[0m eta \u001b[36m0:00:00\u001b[0m\n",
            "\u001b[2K   \u001b[90m━━━━━━━━━━━━━━━━━━━━━━━━━━━━━━━━━━━━━━━━\u001b[0m \u001b[32m72.0/72.0 kB\u001b[0m \u001b[31m5.0 MB/s\u001b[0m eta \u001b[36m0:00:00\u001b[0m\n",
            "\u001b[2K   \u001b[90m━━━━━━━━━━━━━━━━━━━━━━━━━━━━━━━━━━━━━━━━\u001b[0m \u001b[32m62.5/62.5 kB\u001b[0m \u001b[31m4.6 MB/s\u001b[0m eta \u001b[36m0:00:00\u001b[0m\n",
            "\u001b[?25h"
          ]
        }
      ]
    },
    {
      "cell_type": "code",
      "execution_count": 4,
      "metadata": {
        "id": "7RNYo5sTaYil"
      },
      "outputs": [],
      "source": [
        "import pandas as pd\n",
        "import numpy as np\n",
        "import matplotlib.pyplot as plt\n",
        "import seaborn as sns\n",
        "\n",
        "from sklearn.model_selection import train_test_split, cross_val_score\n",
        "from sklearn.preprocessing import LabelEncoder, StandardScaler\n",
        "from sklearn.ensemble import RandomForestClassifier\n",
        "from sklearn.metrics import classification_report, confusion_matrix, accuracy_score\n",
        "import gradio as gr\n",
        "import joblib\n"
      ]
    },
    {
      "cell_type": "code",
      "source": [
        "# Cell 2: Load Dataset\n",
        "# Simulating loading from CSV since the dataset content was shared as a table\n",
        "data = pd.DataFrame({\n",
        "    'Transaction ID': [1,2,3,4,5,6,7,8],\n",
        "    'User ID': [101,102,103,104,105,106,101,108],\n",
        "    'Transaction Amount': [100.5, 500.0, 10.0, 1000.0, 300.0, 1500.0, 5.0, 50.0],\n",
        "    'Transaction Type': ['Purchase', 'Purchase', 'Purchase', 'Transfer', 'Refund', 'Purchase', 'Purchase', 'Purchase'],\n",
        "    'Merchant ID': ['M001','M002','M003','M004','M005','M001','M001','M002'],\n",
        "    'Timestamp': pd.to_datetime(['2025-05-13 10:05:00','2025-05-13 10:10:00','2025-05-13 10:15:00',\n",
        "                                 '2025-05-13 10:20:00','2025-05-13 10:25:00','2025-05-13 10:30:00',\n",
        "                                 '2025-05-13 10:35:00','2025-05-13 10:40:00']),\n",
        "    'Location': ['New York, USA', 'London, UK', 'Berlin, Germany', 'Paris, France', 'Tokyo, Japan',\n",
        "                 'New York, USA', 'New York, USA', 'Madrid, Spain'],\n",
        "    'Card Type': ['Visa','MasterCard','Visa','MasterCard','Visa','Visa','Visa','MasterCard'],\n",
        "    'Device ID': ['D001','D002','D003','D004','D005','D001','D001','D006'],\n",
        "    'Transaction Status': ['Authorized','Authorized','Authorized','Flagged','Authorized','Flagged','Authorized','Authorized'],\n",
        "    'Fraudulent': [0,0,0,1,0,1,0,0]\n",
        "})\n"
      ],
      "metadata": {
        "id": "Whv2ePuZbO7O"
      },
      "execution_count": 5,
      "outputs": []
    },
    {
      "cell_type": "code",
      "source": [
        "# Cell 3: EDA - Quick Overview\n",
        "print(data.info())\n",
        "print(data.describe())\n",
        "print(data['Fraudulent'].value_counts())\n",
        "sns.countplot(x='Fraudulent', data=data)\n",
        "plt.title(\"Class Distribution\")\n",
        "plt.show()\n"
      ],
      "metadata": {
        "colab": {
          "base_uri": "https://localhost:8080/",
          "height": 1000
        },
        "id": "EO-XuYKLbWHV",
        "outputId": "d3df2772-b99b-4114-bd98-f1cbfbc21e7b"
      },
      "execution_count": 6,
      "outputs": [
        {
          "output_type": "stream",
          "name": "stdout",
          "text": [
            "<class 'pandas.core.frame.DataFrame'>\n",
            "RangeIndex: 8 entries, 0 to 7\n",
            "Data columns (total 11 columns):\n",
            " #   Column              Non-Null Count  Dtype         \n",
            "---  ------              --------------  -----         \n",
            " 0   Transaction ID      8 non-null      int64         \n",
            " 1   User ID             8 non-null      int64         \n",
            " 2   Transaction Amount  8 non-null      float64       \n",
            " 3   Transaction Type    8 non-null      object        \n",
            " 4   Merchant ID         8 non-null      object        \n",
            " 5   Timestamp           8 non-null      datetime64[ns]\n",
            " 6   Location            8 non-null      object        \n",
            " 7   Card Type           8 non-null      object        \n",
            " 8   Device ID           8 non-null      object        \n",
            " 9   Transaction Status  8 non-null      object        \n",
            " 10  Fraudulent          8 non-null      int64         \n",
            "dtypes: datetime64[ns](1), float64(1), int64(3), object(6)\n",
            "memory usage: 836.0+ bytes\n",
            "None\n",
            "       Transaction ID     User ID  Transaction Amount            Timestamp  \\\n",
            "count         8.00000    8.000000            8.000000                    8   \n",
            "mean          4.50000  103.750000          433.187500  2025-05-13 10:22:30   \n",
            "min           1.00000  101.000000            5.000000  2025-05-13 10:05:00   \n",
            "25%           2.75000  101.750000           40.000000  2025-05-13 10:13:45   \n",
            "50%           4.50000  103.500000          200.250000  2025-05-13 10:22:30   \n",
            "75%           6.25000  105.250000          625.000000  2025-05-13 10:31:15   \n",
            "max           8.00000  108.000000         1500.000000  2025-05-13 10:40:00   \n",
            "std           2.44949    2.492847          547.919959                  NaN   \n",
            "\n",
            "       Fraudulent  \n",
            "count     8.00000  \n",
            "mean      0.25000  \n",
            "min       0.00000  \n",
            "25%       0.00000  \n",
            "50%       0.00000  \n",
            "75%       0.25000  \n",
            "max       1.00000  \n",
            "std       0.46291  \n",
            "Fraudulent\n",
            "0    6\n",
            "1    2\n",
            "Name: count, dtype: int64\n"
          ]
        },
        {
          "output_type": "display_data",
          "data": {
            "text/plain": [
              "<Figure size 640x480 with 1 Axes>"
            ],
            "image/png": "[encoded data removed]"
          },
          "metadata": {}
        }
      ]
    },
    {
      "cell_type": "code",
      "source": [
        "# Cell 4: Feature Engineering\n",
        "# Extract hour from timestamp\n",
        "data['Hour'] = data['Timestamp'].dt.hour\n",
        "\n",
        "# Drop columns not needed for modeling\n",
        "data = data.drop(columns=['Transaction ID', 'Timestamp'])\n",
        "\n",
        "# Encode categorical features\n",
        "cat_cols = ['Transaction Type', 'Merchant ID', 'Location', 'Card Type', 'Device ID', 'Transaction Status']\n",
        "label_encoders = {}\n",
        "for col in cat_cols:\n",
        "    le = LabelEncoder()\n",
        "    data[col] = le.fit_transform(data[col])\n",
        "    label_encoders[col] = le\n",
        "\n",
        "# Save label encoders\n",
        "joblib.dump(label_encoders, \"label_encoders.pkl\")\n",
        "\n",
        "# Scaling\n",
        "scaler = StandardScaler()\n",
        "features = data.drop(columns=['Fraudulent'])\n",
        "scaled_features = scaler.fit_transform(features)\n",
        "\n",
        "# Save scaler\n",
        "joblib.dump(scaler, \"scaler.pkl\")\n",
        "\n",
        "X = scaled_features\n",
        "y = data['Fraudulent']\n"
      ],
      "metadata": {
        "id": "JgX6AmEYbaD9"
      },
      "execution_count": 7,
      "outputs": []
    },
    {
      "cell_type": "code",
      "source": [
        "# Cell 5: Train-Test Split and Model Training\n",
        "X_train, X_test, y_train, y_test = train_test_split(X, y, test_size=0.2, random_state=42)\n",
        "\n",
        "clf = RandomForestClassifier(random_state=42)\n",
        "clf.fit(X_train, y_train)\n",
        "\n",
        "y_pred = clf.predict(X_test)\n",
        "\n",
        "print(\"Accuracy:\", accuracy_score(y_test, y_pred))\n",
        "print(classification_report(y_test, y_pred))\n",
        "print(\"Confusion Matrix:\\n\", confusion_matrix(y_test, y_pred))\n",
        "\n",
        "# Save model\n",
        "joblib.dump(clf, \"fraud_model.pkl\")\n"
      ],
      "metadata": {
        "colab": {
          "base_uri": "https://localhost:8080/"
        },
        "id": "BRgfyuB9bdW1",
        "outputId": "57bf99d2-2ff8-4665-bd85-30eba937af62"
      },
      "execution_count": 8,
      "outputs": [
        {
          "output_type": "stream",
          "name": "stdout",
          "text": [
            "Accuracy: 0.5\n",
            "              precision    recall  f1-score   support\n",
            "\n",
            "           0       0.50      1.00      0.67         1\n",
            "           1       0.00      0.00      0.00         1\n",
            "\n",
            "    accuracy                           0.50         2\n",
            "   macro avg       0.25      0.50      0.33         2\n",
            "weighted avg       0.25      0.50      0.33         2\n",
            "\n",
            "Confusion Matrix:\n",
            " [[1 0]\n",
            " [1 0]]\n"
          ]
        },
        {
          "output_type": "stream",
          "name": "stderr",
          "text": [
            "/usr/local/lib/python3.11/dist-packages/sklearn/metrics/_classification.py:1565: UndefinedMetricWarning: Precision is ill-defined and being set to 0.0 in labels with no predicted samples. Use `zero_division` parameter to control this behavior.\n",
            "  _warn_prf(average, modifier, f\"{metric.capitalize()} is\", len(result))\n",
            "/usr/local/lib/python3.11/dist-packages/sklearn/metrics/_classification.py:1565: UndefinedMetricWarning: Precision is ill-defined and being set to 0.0 in labels with no predicted samples. Use `zero_division` parameter to control this behavior.\n",
            "  _warn_prf(average, modifier, f\"{metric.capitalize()} is\", len(result))\n",
            "/usr/local/lib/python3.11/dist-packages/sklearn/metrics/_classification.py:1565: UndefinedMetricWarning: Precision is ill-defined and being set to 0.0 in labels with no predicted samples. Use `zero_division` parameter to control this behavior.\n",
            "  _warn_prf(average, modifier, f\"{metric.capitalize()} is\", len(result))\n"
          ]
        },
        {
          "output_type": "execute_result",
          "data": {
            "text/plain": [
              "['fraud_model.pkl']"
            ]
          },
          "metadata": {},
          "execution_count": 8
        }
      ]
    },
    {
      "cell_type": "code",
      "source": [
        "# Cell 6: Gradio Interface for Deployment\n",
        "def predict_fraud(transaction_amount, transaction_type, merchant_id, location, card_type, device_id, status, hour):\n",
        "    # Load model & preprocessors\n",
        "    model = joblib.load(\"fraud_model.pkl\")\n",
        "    label_encoders = joblib.load(\"label_encoders.pkl\")\n",
        "    scaler = joblib.load(\"scaler.pkl\")\n",
        "\n",
        "    input_data = {\n",
        "        'Transaction Amount': float(transaction_amount),\n",
        "        'Transaction Type': label_encoders['Transaction Type'].transform([transaction_type])[0],\n",
        "        'Merchant ID': label_encoders['Merchant ID'].transform([merchant_id])[0],\n",
        "        'Location': label_encoders['Location'].transform([location])[0],\n",
        "        'Card Type': label_encoders['Card Type'].transform([card_type])[0],\n",
        "        'Device ID': label_encoders['Device ID'].transform([device_id])[0],\n",
        "        'Transaction Status': label_encoders['Transaction Status'].transform([status])[0],\n",
        "        'Hour': int(hour)\n",
        "    }\n",
        "\n",
        "    df = pd.DataFrame([input_data])\n",
        "    df_scaled = scaler.transform(df)\n",
        "    prediction = model.predict(df_scaled)[0]\n",
        "    return \"Fraudulent\" if prediction == 1 else \"Legitimate\"\n",
        "\n",
        "gr_interface = gr.Interface(\n",
        "    fn=predict_fraud,\n",
        "    inputs=[\n",
        "        gr.Number(label=\"Transaction Amount\"),\n",
        "        gr.Textbox(label=\"Transaction Type (e.g., Purchase, Transfer, Refund)\"),\n",
        "        gr.Textbox(label=\"Merchant ID (e.g., M001)\"),\n",
        "        gr.Textbox(label=\"Location (e.g., New York, USA)\"),\n",
        "        gr.Textbox(label=\"Card Type (e.g., Visa, MasterCard)\"),\n",
        "        gr.Textbox(label=\"Device ID (e.g., D001)\"),\n",
        "        gr.Textbox(label=\"Transaction Status (e.g., Authorized, Flagged)\"),\n",
        "        gr.Number(label=\"Transaction Hour (0-23)\")\n",
        "    ],\n",
        "    outputs=\"text\",\n",
        "    title=\"AI-Powered Credit Card Fraud Detection\"\n",
        ")\n",
        "\n",
        "gr_interface.launch()\n"
      ],
      "metadata": {
        "colab": {
          "base_uri": "https://localhost:8080/",
          "height": 626
        },
        "id": "6AqOBDiybiRN",
        "outputId": "1a90f177-a88f-4bdb-8dcd-0fc95052f8c6"
      },
      "execution_count": 9,
      "outputs": [
        {
          "output_type": "stream",
          "name": "stdout",
          "text": [
            "It looks like you are running Gradio on a hosted a Jupyter notebook. For the Gradio app to work, sharing must be enabled. Automatically setting `share=True` (you can turn this off by setting `share=False` in `launch()` explicitly).\n",
            "\n",
            "Colab notebook detected. To show errors in colab notebook, set debug=True in launch()\n",
            "* Running on public URL: https://d94ea8db27d5192118.gradio.live\n",
            "\n",
            "This share link expires in 1 week. For free permanent hosting and GPU upgrades, run `gradio deploy` from the terminal in the working directory to deploy to Hugging Face Spaces (https://huggingface.co/spaces)\n"
          ]
        },
        {
          "output_type": "display_data",
          "data": {
            "text/plain": [
              "<IPython.core.display.HTML object>"
            ],
            "text/html": [
              "<div><iframe src=\"https://d94ea8db27d5192118.gradio.live\" width=\"100%\" height=\"500\" allow=\"autoplay; camera; microphone; clipboard-read; clipboard-write;\" frameborder=\"0\" allowfullscreen></iframe></div>"
            ]
          },
          "metadata": {}
        },
        {
          "output_type": "execute_result",
          "data": {
            "text/plain": []
          },
          "metadata": {},
          "execution_count": 9
        }
      ]
    }
  ]
}